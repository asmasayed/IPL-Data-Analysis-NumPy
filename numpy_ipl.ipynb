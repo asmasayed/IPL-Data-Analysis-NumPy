{
 "cells": [
  {
   "cell_type": "code",
   "execution_count": 17,
   "id": "9698f3cf-071c-49e0-bb33-baf2f8a46cd3",
   "metadata": {},
   "outputs": [],
   "source": [
    "import pandas as pd\n",
    "import numpy as np\n",
    "#Load the data\n",
    "df=pd.read_csv(\"ipl_matches.csv\")"
   ]
  },
  {
   "cell_type": "code",
   "execution_count": 18,
   "id": "25f3e15a-b683-4191-9b01-6aadb950e495",
   "metadata": {},
   "outputs": [
    {
     "data": {
      "text/html": [
       "<div>\n",
       "<style scoped>\n",
       "    .dataframe tbody tr th:only-of-type {\n",
       "        vertical-align: middle;\n",
       "    }\n",
       "\n",
       "    .dataframe tbody tr th {\n",
       "        vertical-align: top;\n",
       "    }\n",
       "\n",
       "    .dataframe thead th {\n",
       "        text-align: right;\n",
       "    }\n",
       "</style>\n",
       "<table border=\"1\" class=\"dataframe\">\n",
       "  <thead>\n",
       "    <tr style=\"text-align: right;\">\n",
       "      <th></th>\n",
       "      <th>id</th>\n",
       "      <th>date</th>\n",
       "      <th>team1</th>\n",
       "      <th>team2</th>\n",
       "      <th>toss_winner</th>\n",
       "      <th>decision</th>\n",
       "      <th>first_score</th>\n",
       "      <th>first_wkts</th>\n",
       "      <th>second_score</th>\n",
       "      <th>second_wkts</th>\n",
       "      <th>winner</th>\n",
       "      <th>player_of_the_match</th>\n",
       "      <th>most_runs</th>\n",
       "      <th>most_wkts</th>\n",
       "    </tr>\n",
       "  </thead>\n",
       "  <tbody>\n",
       "    <tr>\n",
       "      <th>0</th>\n",
       "      <td>1</td>\n",
       "      <td>March 22,2024</td>\n",
       "      <td>Banglore</td>\n",
       "      <td>Chennai</td>\n",
       "      <td>Banglore</td>\n",
       "      <td>Bat</td>\n",
       "      <td>173</td>\n",
       "      <td>6</td>\n",
       "      <td>176</td>\n",
       "      <td>4</td>\n",
       "      <td>Chennai</td>\n",
       "      <td>Mustafizur Rahman</td>\n",
       "      <td>Anuj Rawat</td>\n",
       "      <td>Mustafizur Rahman</td>\n",
       "    </tr>\n",
       "    <tr>\n",
       "      <th>1</th>\n",
       "      <td>2</td>\n",
       "      <td>March 23,2024</td>\n",
       "      <td>Delhi</td>\n",
       "      <td>Punjab</td>\n",
       "      <td>Punjab</td>\n",
       "      <td>Field</td>\n",
       "      <td>174</td>\n",
       "      <td>9</td>\n",
       "      <td>177</td>\n",
       "      <td>6</td>\n",
       "      <td>Punjab</td>\n",
       "      <td>Sam Curran</td>\n",
       "      <td>Sam Curran</td>\n",
       "      <td>Kuldeep Yadav</td>\n",
       "    </tr>\n",
       "    <tr>\n",
       "      <th>2</th>\n",
       "      <td>3</td>\n",
       "      <td>March 23,2024</td>\n",
       "      <td>Kolkata</td>\n",
       "      <td>Hyderabad</td>\n",
       "      <td>Hyderabad</td>\n",
       "      <td>Field</td>\n",
       "      <td>208</td>\n",
       "      <td>7</td>\n",
       "      <td>204</td>\n",
       "      <td>7</td>\n",
       "      <td>Kolkata</td>\n",
       "      <td>Andre Russell</td>\n",
       "      <td>Andre Russell</td>\n",
       "      <td>T Natarajan</td>\n",
       "    </tr>\n",
       "    <tr>\n",
       "      <th>3</th>\n",
       "      <td>4</td>\n",
       "      <td>March 24,2024</td>\n",
       "      <td>Rajasthan</td>\n",
       "      <td>Lucknow</td>\n",
       "      <td>Rajasthan</td>\n",
       "      <td>Bat</td>\n",
       "      <td>193</td>\n",
       "      <td>4</td>\n",
       "      <td>173</td>\n",
       "      <td>6</td>\n",
       "      <td>Rajasthan</td>\n",
       "      <td>Sanju Samson</td>\n",
       "      <td>Sanju Samson</td>\n",
       "      <td>Trent Boult</td>\n",
       "    </tr>\n",
       "    <tr>\n",
       "      <th>4</th>\n",
       "      <td>5</td>\n",
       "      <td>March 24,2024</td>\n",
       "      <td>Gujarat</td>\n",
       "      <td>Mumbai</td>\n",
       "      <td>Mumbai</td>\n",
       "      <td>Field</td>\n",
       "      <td>168</td>\n",
       "      <td>6</td>\n",
       "      <td>162</td>\n",
       "      <td>9</td>\n",
       "      <td>Gujarat</td>\n",
       "      <td>Sai Sudharsan</td>\n",
       "      <td>Dewald Brevis</td>\n",
       "      <td>Jasprit Bumrah</td>\n",
       "    </tr>\n",
       "  </tbody>\n",
       "</table>\n",
       "</div>"
      ],
      "text/plain": [
       "   id           date      team1      team2 toss_winner decision  first_score  \\\n",
       "0   1  March 22,2024   Banglore    Chennai    Banglore      Bat          173   \n",
       "1   2  March 23,2024      Delhi     Punjab      Punjab    Field          174   \n",
       "2   3  March 23,2024    Kolkata  Hyderabad   Hyderabad    Field          208   \n",
       "3   4  March 24,2024  Rajasthan    Lucknow   Rajasthan      Bat          193   \n",
       "4   5  March 24,2024    Gujarat     Mumbai      Mumbai    Field          168   \n",
       "\n",
       "   first_wkts  second_score  second_wkts     winner player_of_the_match  \\\n",
       "0           6           176            4    Chennai   Mustafizur Rahman   \n",
       "1           9           177            6     Punjab          Sam Curran   \n",
       "2           7           204            7    Kolkata       Andre Russell   \n",
       "3           4           173            6  Rajasthan        Sanju Samson   \n",
       "4           6           162            9    Gujarat       Sai Sudharsan   \n",
       "\n",
       "       most_runs          most_wkts  \n",
       "0     Anuj Rawat  Mustafizur Rahman  \n",
       "1     Sam Curran      Kuldeep Yadav  \n",
       "2  Andre Russell        T Natarajan  \n",
       "3   Sanju Samson        Trent Boult  \n",
       "4  Dewald Brevis     Jasprit Bumrah  "
      ]
     },
     "execution_count": 18,
     "metadata": {},
     "output_type": "execute_result"
    }
   ],
   "source": [
    "#check the data\n",
    "df.head()"
   ]
  },
  {
   "cell_type": "code",
   "execution_count": 19,
   "id": "5ebeda83-fbcc-4ebb-b3f6-8d655d4a83f4",
   "metadata": {},
   "outputs": [
    {
     "data": {
      "text/plain": [
       "Series([], Name: count, dtype: int64)"
      ]
     },
     "execution_count": 19,
     "metadata": {},
     "output_type": "execute_result"
    }
   ],
   "source": [
    "#clean the data\n",
    "df.isnull().sum()\n",
    "#check for null matches and remove them and then recheck\n",
    "df[df['first_score']==0]\n",
    "df=df[df[\"first_score\"]!=0]\n",
    "df[df['first_score']==0].value_counts()"
   ]
  },
  {
   "cell_type": "code",
   "execution_count": 20,
   "id": "112041d8-063c-4f5e-9d80-abf996716029",
   "metadata": {},
   "outputs": [],
   "source": [
    "#extract numerical data to numpy arr\n",
    "runs_team1=df[\"first_score\"].to_numpy()\n",
    "runs_team2=df[\"second_score\"].to_numpy()"
   ]
  },
  {
   "cell_type": "code",
   "execution_count": 21,
   "id": "2f55e9f5-efa4-4bc5-9ef4-87171d6434f9",
   "metadata": {},
   "outputs": [
    {
     "name": "stdout",
     "output_type": "stream",
     "text": [
      "Total runs scored in each match:  [349 351 412 366 330 354 349 523 358 368 377 330 362 252 334 438 399 331\n",
      " 372 439 293 278 362 395 395 337 299 323 392 449 447 181 375 356 465 443\n",
      " 288 362 423 444 377 523 504 395 406 346 310 289 325 401 314 299 306 372\n",
      " 347 422 332 422 427 296 286 327 397 289 410 409 429 323 346 314 227]\n"
     ]
    }
   ],
   "source": [
    "#Basic calculations on numpyarr\n",
    "total_runs=runs_team1+runs_team2\n",
    "print(\"Total runs scored in each match: \",total_runs)"
   ]
  },
  {
   "cell_type": "code",
   "execution_count": 22,
   "id": "9537a9fc-f4b8-4a6d-8854-ace3ca669f24",
   "metadata": {},
   "outputs": [
    {
     "name": "stdout",
     "output_type": "stream",
     "text": [
      "Average total runs scored per match: 364.38\n"
     ]
    }
   ],
   "source": [
    "avg_runs=np.mean(total_runs)\n",
    "print(f\"Average total runs scored per match: {avg_runs:.2f}\")"
   ]
  },
  {
   "cell_type": "code",
   "execution_count": 23,
   "id": "dedaf789-1067-430b-b5aa-ce9996df7fef",
   "metadata": {},
   "outputs": [
    {
     "name": "stdout",
     "output_type": "stream",
     "text": [
      "Middle run of the series:  179.5\n"
     ]
    }
   ],
   "source": [
    "mid=np.median([runs_team1,runs_team2])\n",
    "print(\"Middle run of the series: \",mid)"
   ]
  },
  {
   "cell_type": "code",
   "execution_count": 24,
   "id": "e85b96ec-8ac5-4df8-a984-fd9991fead33",
   "metadata": {},
   "outputs": [
    {
     "name": "stdout",
     "output_type": "stream",
     "text": [
      "Maximum score throughout the season:  277\n"
     ]
    }
   ],
   "source": [
    "max_score=np.max([np.max(runs_team1),np.max(runs_team2)])\n",
    "print(\"Maximum score throughout the season: \",max_score)"
   ]
  },
  {
   "cell_type": "code",
   "execution_count": 25,
   "id": "4db1d53f-31e9-4ee7-9720-9cb9e6b2e72b",
   "metadata": {},
   "outputs": [
    {
     "name": "stdout",
     "output_type": "stream",
     "text": [
      "Minimum score throughout the season:  89\n"
     ]
    }
   ],
   "source": [
    "min_score=np.min([np.min(runs_team1),np.min(runs_team2)])\n",
    "print(\"Minimum score throughout the season: \",min_score)"
   ]
  },
  {
   "cell_type": "code",
   "execution_count": 26,
   "id": "e22a6cb2-cd81-4c2a-b9fd-e20e6c30886d",
   "metadata": {},
   "outputs": [
    {
     "name": "stdout",
     "output_type": "stream",
     "text": [
      "Absolute run difference in each match:  [  3   3   4  20   6   2  63  31  12   4  21   6  20   2  28 106   1   1\n",
      "   6  29  33   4   2   3   3   3   5   1  20  75   1   3   9   4  67   1\n",
      "   4   4   3   4  35   1  10   3   6  78   4   1   1   1  24   5  28  98\n",
      "   1  20   2  60  35  18   4  47  19   1  18  27   1   5   2  36   1]\n"
     ]
    }
   ],
   "source": [
    "run_diff=abs(runs_team1-runs_team2)\n",
    "print(\"Absolute run difference in each match: \",run_diff)"
   ]
  },
  {
   "cell_type": "code",
   "execution_count": 33,
   "id": "6579641d-50f5-46b4-9f2b-5608c7d1c13d",
   "metadata": {},
   "outputs": [
    {
     "name": "stdout",
     "output_type": "stream",
     "text": [
      "Matches with close run difference:  [ True  True  True False  True  True False False False  True False  True\n",
      " False  True False False  True  True  True False False  True  True  True\n",
      "  True  True  True  True False False  True  True  True  True False  True\n",
      "  True  True  True  True False  True  True  True  True False  True  True\n",
      "  True  True False  True False False  True False  True False False False\n",
      "  True False False  True False False  True  True  True False  True]\n"
     ]
    }
   ],
   "source": [
    "#Which matches were close\n",
    "close_matches_mask= run_diff<=10    #here mask means, a boolean array\n",
    "print(\"Matches with close run difference: \",close_matches)"
   ]
  },
  {
   "cell_type": "code",
   "execution_count": 36,
   "id": "2b9f80d1-c3e1-4093-b782-372e7fb1bb80",
   "metadata": {},
   "outputs": [
    {
     "name": "stdout",
     "output_type": "stream",
     "text": [
      "Runs scored in close matches:  [349 351 412 330 354 368 330 252 399 331 372 278 362 395 395 337 299 323\n",
      " 447 181 375 356 443 288 362 423 444 523 504 395 406 310 289 325 401 299\n",
      " 347 332 286 289 429 323 346 227]\n"
     ]
    }
   ],
   "source": [
    "#runs in close matches\n",
    "runs_close_matches=total_runs[close_matches_mask]\n",
    "print(\"Runs scored in close matches: \",runs_close_matches)"
   ]
  },
  {
   "cell_type": "code",
   "execution_count": 37,
   "id": "f0c66dbb-a906-4bdb-a3a0-27cb3315044f",
   "metadata": {},
   "outputs": [
    {
     "name": "stdout",
     "output_type": "stream",
     "text": [
      "Total no of close matches:  44\n"
     ]
    }
   ],
   "source": [
    "#no of close matches\n",
    "print(\"Total no of close matches: \",np.sum(close_matches_mask))"
   ]
  },
  {
   "cell_type": "code",
   "execution_count": 42,
   "id": "f0068ad7-2185-4d99-9238-a188bd29f169",
   "metadata": {},
   "outputs": [
    {
     "name": "stdout",
     "output_type": "stream",
     "text": [
      "Highest runs scored in matches:  [351 412 366 354 523 358 368 377 362 438 399 372 439 362 395 395 392 449\n",
      " 447 375 356 465 443 362 423 444 377 523 504 395 406 401 372 422 422 427\n",
      " 397 410 409 429]\n",
      "Number of matches with high scores:  40\n"
     ]
    }
   ],
   "source": [
    "#Identify high scoring matches\n",
    "high_runs_matches=total_runs>=350\n",
    "print(\"Highest runs scored in matches: \",total_runs[high_runs_matches])\n",
    "print(\"Number of matches with high scores: \",np.sum(high_runs_matches))"
   ]
  },
  {
   "cell_type": "code",
   "execution_count": 44,
   "id": "ea06de1b-a4f4-492c-b779-b0e58e1f0243",
   "metadata": {},
   "outputs": [
    {
     "name": "stdout",
     "output_type": "stream",
     "text": [
      "Total runs(sorted):  [181 227 252 278 286 288 289 289 293 296 299 299 306 310 314 314 323 323\n",
      " 325 327 330 330 331 332 334 337 346 346 347 349 349 351 354 356 358 362\n",
      " 362 362 366 368 372 372 375 377 377 392 395 395 395 397 399 401 406 409\n",
      " 410 412 422 422 423 427 429 438 439 443 444 447 449 465 504 523 523]\n"
     ]
    }
   ],
   "source": [
    "#sorting\n",
    "sorted_runs=np.sort(total_runs)\n",
    "print(\"Total runs(sorted): \",sorted_runs)"
   ]
  },
  {
   "cell_type": "code",
   "execution_count": 45,
   "id": "8ef5db05-efe7-4df2-b5d0-171b4e057158",
   "metadata": {},
   "outputs": [
    {
     "data": {
      "text/html": [
       "<div>\n",
       "<style scoped>\n",
       "    .dataframe tbody tr th:only-of-type {\n",
       "        vertical-align: middle;\n",
       "    }\n",
       "\n",
       "    .dataframe tbody tr th {\n",
       "        vertical-align: top;\n",
       "    }\n",
       "\n",
       "    .dataframe thead th {\n",
       "        text-align: right;\n",
       "    }\n",
       "</style>\n",
       "<table border=\"1\" class=\"dataframe\">\n",
       "  <thead>\n",
       "    <tr style=\"text-align: right;\">\n",
       "      <th></th>\n",
       "      <th>id</th>\n",
       "      <th>date</th>\n",
       "      <th>team1</th>\n",
       "      <th>team2</th>\n",
       "      <th>toss_winner</th>\n",
       "      <th>decision</th>\n",
       "      <th>first_score</th>\n",
       "      <th>first_wkts</th>\n",
       "      <th>second_score</th>\n",
       "      <th>second_wkts</th>\n",
       "      <th>winner</th>\n",
       "      <th>player_of_the_match</th>\n",
       "      <th>most_runs</th>\n",
       "      <th>most_wkts</th>\n",
       "    </tr>\n",
       "  </thead>\n",
       "  <tbody>\n",
       "    <tr>\n",
       "      <th>0</th>\n",
       "      <td>1</td>\n",
       "      <td>March 22,2024</td>\n",
       "      <td>Banglore</td>\n",
       "      <td>Chennai</td>\n",
       "      <td>Banglore</td>\n",
       "      <td>Bat</td>\n",
       "      <td>173</td>\n",
       "      <td>6</td>\n",
       "      <td>176</td>\n",
       "      <td>4</td>\n",
       "      <td>Chennai</td>\n",
       "      <td>Mustafizur Rahman</td>\n",
       "      <td>Anuj Rawat</td>\n",
       "      <td>Mustafizur Rahman</td>\n",
       "    </tr>\n",
       "    <tr>\n",
       "      <th>1</th>\n",
       "      <td>2</td>\n",
       "      <td>March 23,2024</td>\n",
       "      <td>Delhi</td>\n",
       "      <td>Punjab</td>\n",
       "      <td>Punjab</td>\n",
       "      <td>Field</td>\n",
       "      <td>174</td>\n",
       "      <td>9</td>\n",
       "      <td>177</td>\n",
       "      <td>6</td>\n",
       "      <td>Punjab</td>\n",
       "      <td>Sam Curran</td>\n",
       "      <td>Sam Curran</td>\n",
       "      <td>Kuldeep Yadav</td>\n",
       "    </tr>\n",
       "    <tr>\n",
       "      <th>2</th>\n",
       "      <td>3</td>\n",
       "      <td>March 23,2024</td>\n",
       "      <td>Kolkata</td>\n",
       "      <td>Hyderabad</td>\n",
       "      <td>Hyderabad</td>\n",
       "      <td>Field</td>\n",
       "      <td>208</td>\n",
       "      <td>7</td>\n",
       "      <td>204</td>\n",
       "      <td>7</td>\n",
       "      <td>Kolkata</td>\n",
       "      <td>Andre Russell</td>\n",
       "      <td>Andre Russell</td>\n",
       "      <td>T Natarajan</td>\n",
       "    </tr>\n",
       "    <tr>\n",
       "      <th>3</th>\n",
       "      <td>4</td>\n",
       "      <td>March 24,2024</td>\n",
       "      <td>Rajasthan</td>\n",
       "      <td>Lucknow</td>\n",
       "      <td>Rajasthan</td>\n",
       "      <td>Bat</td>\n",
       "      <td>193</td>\n",
       "      <td>4</td>\n",
       "      <td>173</td>\n",
       "      <td>6</td>\n",
       "      <td>Rajasthan</td>\n",
       "      <td>Sanju Samson</td>\n",
       "      <td>Sanju Samson</td>\n",
       "      <td>Trent Boult</td>\n",
       "    </tr>\n",
       "    <tr>\n",
       "      <th>4</th>\n",
       "      <td>5</td>\n",
       "      <td>March 24,2024</td>\n",
       "      <td>Gujarat</td>\n",
       "      <td>Mumbai</td>\n",
       "      <td>Mumbai</td>\n",
       "      <td>Field</td>\n",
       "      <td>168</td>\n",
       "      <td>6</td>\n",
       "      <td>162</td>\n",
       "      <td>9</td>\n",
       "      <td>Gujarat</td>\n",
       "      <td>Sai Sudharsan</td>\n",
       "      <td>Dewald Brevis</td>\n",
       "      <td>Jasprit Bumrah</td>\n",
       "    </tr>\n",
       "  </tbody>\n",
       "</table>\n",
       "</div>"
      ],
      "text/plain": [
       "   id           date      team1      team2 toss_winner decision  first_score  \\\n",
       "0   1  March 22,2024   Banglore    Chennai    Banglore      Bat          173   \n",
       "1   2  March 23,2024      Delhi     Punjab      Punjab    Field          174   \n",
       "2   3  March 23,2024    Kolkata  Hyderabad   Hyderabad    Field          208   \n",
       "3   4  March 24,2024  Rajasthan    Lucknow   Rajasthan      Bat          193   \n",
       "4   5  March 24,2024    Gujarat     Mumbai      Mumbai    Field          168   \n",
       "\n",
       "   first_wkts  second_score  second_wkts     winner player_of_the_match  \\\n",
       "0           6           176            4    Chennai   Mustafizur Rahman   \n",
       "1           9           177            6     Punjab          Sam Curran   \n",
       "2           7           204            7    Kolkata       Andre Russell   \n",
       "3           4           173            6  Rajasthan        Sanju Samson   \n",
       "4           6           162            9    Gujarat       Sai Sudharsan   \n",
       "\n",
       "       most_runs          most_wkts  \n",
       "0     Anuj Rawat  Mustafizur Rahman  \n",
       "1     Sam Curran      Kuldeep Yadav  \n",
       "2  Andre Russell        T Natarajan  \n",
       "3   Sanju Samson        Trent Boult  \n",
       "4  Dewald Brevis     Jasprit Bumrah  "
      ]
     },
     "execution_count": 45,
     "metadata": {},
     "output_type": "execute_result"
    }
   ],
   "source": [
    "df.head()"
   ]
  },
  {
   "cell_type": "code",
   "execution_count": 47,
   "id": "f9733ec3-ded0-4155-b81b-152be6642800",
   "metadata": {},
   "outputs": [
    {
     "data": {
      "text/plain": [
       "winner\n",
       "Kolkata      11\n",
       "Rajasthan     9\n",
       "Hyderabad     9\n",
       "Chennai       7\n",
       "Delhi         7\n",
       "Banglore      7\n",
       "Lucknow       7\n",
       "Punjab        5\n",
       "Gujarat       5\n",
       "Mumbai        4\n",
       "Name: count, dtype: int64"
      ]
     },
     "execution_count": 47,
     "metadata": {},
     "output_type": "execute_result"
    }
   ],
   "source": [
    "df['winner'].value_counts()"
   ]
  },
  {
   "cell_type": "code",
   "execution_count": null,
   "id": "f7fb6030-543c-4772-9484-0ca2e2aa9b83",
   "metadata": {},
   "outputs": [],
   "source": []
  }
 ],
 "metadata": {
  "kernelspec": {
   "display_name": "Python 3 (ipykernel)",
   "language": "python",
   "name": "python3"
  },
  "language_info": {
   "codemirror_mode": {
    "name": "ipython",
    "version": 3
   },
   "file_extension": ".py",
   "mimetype": "text/x-python",
   "name": "python",
   "nbconvert_exporter": "python",
   "pygments_lexer": "ipython3",
   "version": "3.13.5"
  }
 },
 "nbformat": 4,
 "nbformat_minor": 5
}
